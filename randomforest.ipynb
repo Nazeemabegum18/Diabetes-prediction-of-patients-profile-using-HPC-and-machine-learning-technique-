{
  "nbformat": 4,
  "nbformat_minor": 0,
  "metadata": {
    "colab": {
      "provenance": []
    },
    "kernelspec": {
      "name": "python3",
      "display_name": "Python 3"
    },
    "language_info": {
      "name": "python"
    }
  },
  "cells": [
    {
      "cell_type": "markdown",
      "source": [
        "To install PySpark using pip"
      ],
      "metadata": {
        "id": "tCcj-1PuIlFM"
      }
    },
    {
      "cell_type": "code",
      "execution_count": null,
      "metadata": {
        "id": "hGYu3w0hOmwd",
        "colab": {
          "base_uri": "https://localhost:8080/"
        },
        "outputId": "9e3b4724-8665-406b-ed13-1ff24d56ac5b"
      },
      "outputs": [
        {
          "output_type": "stream",
          "name": "stdout",
          "text": [
            "Collecting pyspark\n",
            "  Downloading pyspark-3.5.1.tar.gz (317.0 MB)\n",
            "\u001b[2K     \u001b[90m━━━━━━━━━━━━━━━━━━━━━━━━━━━━━━━━━━━━━━━━\u001b[0m \u001b[32m317.0/317.0 MB\u001b[0m \u001b[31m4.6 MB/s\u001b[0m eta \u001b[36m0:00:00\u001b[0m\n",
            "\u001b[?25h  Preparing metadata (setup.py) ... \u001b[?25l\u001b[?25hdone\n",
            "Requirement already satisfied: py4j==0.10.9.7 in /usr/local/lib/python3.10/dist-packages (from pyspark) (0.10.9.7)\n",
            "Building wheels for collected packages: pyspark\n",
            "  Building wheel for pyspark (setup.py) ... \u001b[?25l\u001b[?25hdone\n",
            "  Created wheel for pyspark: filename=pyspark-3.5.1-py2.py3-none-any.whl size=317488491 sha256=1cab592ed10ca41c2283cce55d7643f43e2f74aee143ee40f3300a236e80bca5\n",
            "  Stored in directory: /root/.cache/pip/wheels/80/1d/60/2c256ed38dddce2fdd93be545214a63e02fbd8d74fb0b7f3a6\n",
            "Successfully built pyspark\n",
            "Installing collected packages: pyspark\n",
            "Successfully installed pyspark-3.5.1\n"
          ]
        }
      ],
      "source": [
        "!pip install pyspark"
      ]
    },
    {
      "cell_type": "code",
      "source": [
        "from pyspark.sql import SparkSession #PySpark SQL library\n",
        "from pyspark.ml.feature import StringIndexer, VectorAssembler #PySpark MLlib library\n",
        "from pyspark.ml.classification import RandomForestClassifier #\n",
        "from pyspark.ml import Pipeline # imports the Pipeline class from the PySpark MLlib library.\n",
        "\n"
      ],
      "metadata": {
        "id": "BgdCgdmQO2wv"
      },
      "execution_count": null,
      "outputs": []
    },
    {
      "cell_type": "code",
      "source": [],
      "metadata": {
        "id": "_a8UtlJyIoT9"
      },
      "execution_count": null,
      "outputs": []
    },
    {
      "cell_type": "code",
      "source": [
        "#initialize  SparkSession\n",
        "spark = SparkSession.builder \\\n",
        "        .appName(\"RandomForestExample\") \\\n",
        "        .getOrCreate()\n"
      ],
      "metadata": {
        "id": "OU2EWlL_PRJg"
      },
      "execution_count": null,
      "outputs": []
    },
    {
      "cell_type": "code",
      "source": [
        "\n",
        "df = spark.read.csv('diabetes_Rf.csv', header=True, inferSchema=True)\n",
        "df.show()\n"
      ],
      "metadata": {
        "id": "RdiIf6KkPtJo",
        "colab": {
          "base_uri": "https://localhost:8080/"
        },
        "outputId": "356d09d6-2e27-4ce2-ad70-91582ec6a518"
      },
      "execution_count": null,
      "outputs": [
        {
          "output_type": "stream",
          "name": "stdout",
          "text": [
            "+------+----+------------+-------------+---------------+-----+-----------+-------------------+--------+\n",
            "|gender| age|hypertension|heart_disease|smoking_history|  bmi|HbA1c_level|blood_glucose_level|diabetes|\n",
            "+------+----+------------+-------------+---------------+-----+-----------+-------------------+--------+\n",
            "| false|80.0|           0|            1|          false|25.19|        6.6|                140|       0|\n",
            "| false|54.0|           0|            0|          false|27.32|        6.6|                 80|       0|\n",
            "| false|28.0|           0|            0|          false|27.32|        5.7|                158|       0|\n",
            "| false|36.0|           0|            0|          false|23.45|        5.0|                155|       0|\n",
            "| false|76.0|           1|            1|          false|20.14|        4.8|                155|       0|\n",
            "| false|20.0|           0|            0|          false|27.32|        6.6|                 85|       0|\n",
            "| false|44.0|           0|            0|          false|19.31|        6.5|                140|       1|\n",
            "| false|79.0|           0|            0|          false|23.86|        5.7|                 85|       0|\n",
            "| false|42.0|           0|            0|          false|33.64|        4.8|                145|       0|\n",
            "| false|32.0|           0|            0|          false|27.32|        5.0|                100|       0|\n",
            "| false|53.0|           0|            0|          false|27.32|        6.1|                 85|       0|\n",
            "| false|54.0|           0|            0|          false| 54.7|        6.0|                100|       0|\n",
            "| false|78.0|           0|            0|          false|36.05|        5.0|                130|       0|\n",
            "| false|67.0|           0|            0|          false|25.69|        5.8|                200|       0|\n",
            "| false|76.0|           0|            0|          false|27.32|        5.0|                160|       0|\n",
            "| false|78.0|           0|            0|          false|27.32|        6.6|                126|       0|\n",
            "| false|15.0|           0|            0|          false|30.36|        6.1|                200|       0|\n",
            "| false|42.0|           0|            0|          false|24.48|        5.7|                158|       0|\n",
            "| false|42.0|           0|            0|          false|27.32|        5.7|                 80|       0|\n",
            "| false|37.0|           0|            0|          false|25.72|        3.5|                159|       0|\n",
            "+------+----+------------+-------------+---------------+-----+-----------+-------------------+--------+\n",
            "only showing top 20 rows\n",
            "\n"
          ]
        }
      ]
    },
    {
      "cell_type": "code",
      "source": [
        "df.select(\"diabetes\").show()"
      ],
      "metadata": {
        "id": "yY_y5DC3ZdwP",
        "colab": {
          "base_uri": "https://localhost:8080/"
        },
        "outputId": "45ef1798-6982-4558-cf82-7122c4169680"
      },
      "execution_count": null,
      "outputs": [
        {
          "output_type": "stream",
          "name": "stdout",
          "text": [
            "+--------+\n",
            "|diabetes|\n",
            "+--------+\n",
            "|       0|\n",
            "|       0|\n",
            "|       0|\n",
            "|       0|\n",
            "|       0|\n",
            "|       0|\n",
            "|       1|\n",
            "|       0|\n",
            "|       0|\n",
            "|       0|\n",
            "|       0|\n",
            "|       0|\n",
            "|       0|\n",
            "|       0|\n",
            "|       0|\n",
            "|       0|\n",
            "|       0|\n",
            "|       0|\n",
            "|       0|\n",
            "|       0|\n",
            "+--------+\n",
            "only showing top 20 rows\n",
            "\n"
          ]
        }
      ]
    },
    {
      "cell_type": "code",
      "source": [
        "df.count()"
      ],
      "metadata": {
        "colab": {
          "base_uri": "https://localhost:8080/"
        },
        "id": "kuL73-hnZp43",
        "outputId": "cfe32e50-8f84-4da5-d27d-c6267c2cacb7"
      },
      "execution_count": null,
      "outputs": [
        {
          "output_type": "execute_result",
          "data": {
            "text/plain": [
              "50889"
            ]
          },
          "metadata": {},
          "execution_count": 8
        }
      ]
    },
    {
      "cell_type": "code",
      "source": [
        "len(df.columns)"
      ],
      "metadata": {
        "id": "fqwYkCGhZ1cA",
        "colab": {
          "base_uri": "https://localhost:8080/"
        },
        "outputId": "e863bd44-1f08-461e-b68e-8ec9445b225a"
      },
      "execution_count": null,
      "outputs": [
        {
          "output_type": "execute_result",
          "data": {
            "text/plain": [
              "9"
            ]
          },
          "metadata": {},
          "execution_count": 9
        }
      ]
    },
    {
      "cell_type": "code",
      "source": [
        "df.printSchema()"
      ],
      "metadata": {
        "id": "7JIhBmW4Z5hJ",
        "colab": {
          "base_uri": "https://localhost:8080/"
        },
        "outputId": "b1c14080-5ce1-49a6-9c31-0a8f45a53f52"
      },
      "execution_count": null,
      "outputs": [
        {
          "output_type": "stream",
          "name": "stdout",
          "text": [
            "root\n",
            " |-- gender: boolean (nullable = true)\n",
            " |-- age: double (nullable = true)\n",
            " |-- hypertension: integer (nullable = true)\n",
            " |-- heart_disease: integer (nullable = true)\n",
            " |-- smoking_history: boolean (nullable = true)\n",
            " |-- bmi: double (nullable = true)\n",
            " |-- HbA1c_level: double (nullable = true)\n",
            " |-- blood_glucose_level: integer (nullable = true)\n",
            " |-- diabetes: integer (nullable = true)\n",
            "\n"
          ]
        }
      ]
    },
    {
      "cell_type": "code",
      "source": [
        "df.describe().show()"
      ],
      "metadata": {
        "id": "5hY98OmhaE8n",
        "colab": {
          "base_uri": "https://localhost:8080/"
        },
        "outputId": "10c9e5e2-efe1-457c-b8ad-44c96b667360"
      },
      "execution_count": null,
      "outputs": [
        {
          "output_type": "stream",
          "name": "stdout",
          "text": [
            "+-------+------------------+-------------------+-------------------+------------------+------------------+-------------------+------------------+\n",
            "|summary|               age|       hypertension|      heart_disease|               bmi|       HbA1c_level|blood_glucose_level|          diabetes|\n",
            "+-------+------------------+-------------------+-------------------+------------------+------------------+-------------------+------------------+\n",
            "|  count|             50889|              50889|              50889|             50889|             50889|              50889|             50889|\n",
            "|   mean| 41.85940380042824|0.07516359134587042|0.03910471811196919|27.343307001512525| 5.526921338600055|  137.8510287095443|0.0865216451492464|\n",
            "| stddev|22.483728941749536| 0.2636577173189958|0.19384601499697432| 6.660743065125988|1.0738875687972904| 40.993845815707076| 0.281135560182871|\n",
            "|    min|              0.08|                  0|                  0|             10.01|               3.5|                 80|                 0|\n",
            "|    max|              80.0|                  1|                  1|             88.72|               9.0|                300|                 1|\n",
            "+-------+------------------+-------------------+-------------------+------------------+------------------+-------------------+------------------+\n",
            "\n"
          ]
        }
      ]
    },
    {
      "cell_type": "code",
      "source": [
        "df.head(5)"
      ],
      "metadata": {
        "id": "Wr41FBwlaPrD",
        "colab": {
          "base_uri": "https://localhost:8080/"
        },
        "outputId": "f74f3d69-fe5a-4bba-96b3-ddeb7c08d290"
      },
      "execution_count": null,
      "outputs": [
        {
          "output_type": "execute_result",
          "data": {
            "text/plain": [
              "[Row(gender=False, age=80.0, hypertension=0, heart_disease=1, smoking_history=False, bmi=25.19, HbA1c_level=6.6, blood_glucose_level=140, diabetes=0),\n",
              " Row(gender=False, age=54.0, hypertension=0, heart_disease=0, smoking_history=False, bmi=27.32, HbA1c_level=6.6, blood_glucose_level=80, diabetes=0),\n",
              " Row(gender=False, age=28.0, hypertension=0, heart_disease=0, smoking_history=False, bmi=27.32, HbA1c_level=5.7, blood_glucose_level=158, diabetes=0),\n",
              " Row(gender=False, age=36.0, hypertension=0, heart_disease=0, smoking_history=False, bmi=23.45, HbA1c_level=5.0, blood_glucose_level=155, diabetes=0),\n",
              " Row(gender=False, age=76.0, hypertension=1, heart_disease=1, smoking_history=False, bmi=20.14, HbA1c_level=4.8, blood_glucose_level=155, diabetes=0)]"
            ]
          },
          "metadata": {},
          "execution_count": 11
        }
      ]
    },
    {
      "cell_type": "code",
      "source": [
        "df.groupBy(\"diabetes\").count().show()"
      ],
      "metadata": {
        "id": "4d0FP413aWSZ",
        "colab": {
          "base_uri": "https://localhost:8080/"
        },
        "outputId": "4676cbf6-96bf-4c2e-de58-93e7c839f2d4"
      },
      "execution_count": null,
      "outputs": [
        {
          "output_type": "stream",
          "name": "stdout",
          "text": [
            "+--------+-----+\n",
            "|diabetes|count|\n",
            "+--------+-----+\n",
            "|       1| 4403|\n",
            "|       0|46486|\n",
            "+--------+-----+\n",
            "\n"
          ]
        }
      ]
    },
    {
      "cell_type": "code",
      "source": [
        "df.groupBy(\"age\").count().show()"
      ],
      "metadata": {
        "id": "O_94o6rdahX7",
        "colab": {
          "base_uri": "https://localhost:8080/"
        },
        "outputId": "37f3bda7-bc5c-468b-cad8-3b431cfc168c"
      },
      "execution_count": null,
      "outputs": [
        {
          "output_type": "stream",
          "name": "stdout",
          "text": [
            "+----+-----+\n",
            "| age|count|\n",
            "+----+-----+\n",
            "|67.0|  533|\n",
            "| 8.0|  431|\n",
            "|70.0|  453|\n",
            "|69.0|  487|\n",
            "| 7.0|  467|\n",
            "|0.16|   32|\n",
            "|1.16|   54|\n",
            "|1.08|   48|\n",
            "|1.72|   50|\n",
            "|49.0|  790|\n",
            "| 1.4|   51|\n",
            "|0.72|   56|\n",
            "|29.0|  694|\n",
            "|75.0|  378|\n",
            "|64.0|  542|\n",
            "|0.24|   44|\n",
            "|47.0|  803|\n",
            "|42.0|  724|\n",
            "|44.0|  737|\n",
            "|62.0|  726|\n",
            "+----+-----+\n",
            "only showing top 20 rows\n",
            "\n"
          ]
        }
      ]
    },
    {
      "cell_type": "code",
      "source": [
        "from pyspark.ml.feature import VectorAssembler"
      ],
      "metadata": {
        "id": "0ipbtdfuatTQ"
      },
      "execution_count": null,
      "outputs": []
    },
    {
      "cell_type": "code",
      "source": [
        "df.columns"
      ],
      "metadata": {
        "id": "KVi568RHa7bp",
        "colab": {
          "base_uri": "https://localhost:8080/"
        },
        "outputId": "10845505-4cf7-4912-dc9e-3c25610b3733"
      },
      "execution_count": null,
      "outputs": [
        {
          "output_type": "execute_result",
          "data": {
            "text/plain": [
              "['gender',\n",
              " 'age',\n",
              " 'hypertension',\n",
              " 'heart_disease',\n",
              " 'smoking_history',\n",
              " 'bmi',\n",
              " 'HbA1c_level',\n",
              " 'blood_glucose_level',\n",
              " 'diabetes']"
            ]
          },
          "metadata": {},
          "execution_count": 16
        }
      ]
    },
    {
      "cell_type": "code",
      "source": [
        "assembler = VectorAssembler(inputCols= ['gender','age','hypertension','heart_disease','smoking_history','bmi','HbA1c_level','blood_glucose_level'],\n",
        "                            outputCol = \"features\")"
      ],
      "metadata": {
        "id": "ss_tGXfQbCTQ"
      },
      "execution_count": null,
      "outputs": []
    },
    {
      "cell_type": "code",
      "source": [
        "assembler"
      ],
      "metadata": {
        "id": "dVThEd7pbs46",
        "colab": {
          "base_uri": "https://localhost:8080/"
        },
        "outputId": "0a6fbcab-153c-4f1c-b4ce-cc06de20ab76"
      },
      "execution_count": null,
      "outputs": [
        {
          "output_type": "execute_result",
          "data": {
            "text/plain": [
              "VectorAssembler_2113a7d9e9df"
            ]
          },
          "metadata": {},
          "execution_count": 18
        }
      ]
    },
    {
      "cell_type": "code",
      "source": [
        "output = assembler.transform(df)"
      ],
      "metadata": {
        "id": "YYL7gntqb0yd"
      },
      "execution_count": null,
      "outputs": []
    },
    {
      "cell_type": "code",
      "source": [
        "output.show()"
      ],
      "metadata": {
        "id": "FqKGE6h6b9n0",
        "colab": {
          "base_uri": "https://localhost:8080/"
        },
        "outputId": "d3366381-ac06-41a6-f1c7-4eda4003116e"
      },
      "execution_count": null,
      "outputs": [
        {
          "output_type": "stream",
          "name": "stdout",
          "text": [
            "+------+----+------------+-------------+---------------+-----+-----------+-------------------+--------+--------------------+\n",
            "|gender| age|hypertension|heart_disease|smoking_history|  bmi|HbA1c_level|blood_glucose_level|diabetes|            features|\n",
            "+------+----+------------+-------------+---------------+-----+-----------+-------------------+--------+--------------------+\n",
            "| false|80.0|           0|            1|          false|25.19|        6.6|                140|       0|[0.0,80.0,0.0,1.0...|\n",
            "| false|54.0|           0|            0|          false|27.32|        6.6|                 80|       0|(8,[1,5,6,7],[54....|\n",
            "| false|28.0|           0|            0|          false|27.32|        5.7|                158|       0|(8,[1,5,6,7],[28....|\n",
            "| false|36.0|           0|            0|          false|23.45|        5.0|                155|       0|(8,[1,5,6,7],[36....|\n",
            "| false|76.0|           1|            1|          false|20.14|        4.8|                155|       0|[0.0,76.0,1.0,1.0...|\n",
            "| false|20.0|           0|            0|          false|27.32|        6.6|                 85|       0|(8,[1,5,6,7],[20....|\n",
            "| false|44.0|           0|            0|          false|19.31|        6.5|                140|       1|(8,[1,5,6,7],[44....|\n",
            "| false|79.0|           0|            0|          false|23.86|        5.7|                 85|       0|(8,[1,5,6,7],[79....|\n",
            "| false|42.0|           0|            0|          false|33.64|        4.8|                145|       0|(8,[1,5,6,7],[42....|\n",
            "| false|32.0|           0|            0|          false|27.32|        5.0|                100|       0|(8,[1,5,6,7],[32....|\n",
            "| false|53.0|           0|            0|          false|27.32|        6.1|                 85|       0|(8,[1,5,6,7],[53....|\n",
            "| false|54.0|           0|            0|          false| 54.7|        6.0|                100|       0|(8,[1,5,6,7],[54....|\n",
            "| false|78.0|           0|            0|          false|36.05|        5.0|                130|       0|(8,[1,5,6,7],[78....|\n",
            "| false|67.0|           0|            0|          false|25.69|        5.8|                200|       0|(8,[1,5,6,7],[67....|\n",
            "| false|76.0|           0|            0|          false|27.32|        5.0|                160|       0|(8,[1,5,6,7],[76....|\n",
            "| false|78.0|           0|            0|          false|27.32|        6.6|                126|       0|(8,[1,5,6,7],[78....|\n",
            "| false|15.0|           0|            0|          false|30.36|        6.1|                200|       0|(8,[1,5,6,7],[15....|\n",
            "| false|42.0|           0|            0|          false|24.48|        5.7|                158|       0|(8,[1,5,6,7],[42....|\n",
            "| false|42.0|           0|            0|          false|27.32|        5.7|                 80|       0|(8,[1,5,6,7],[42....|\n",
            "| false|37.0|           0|            0|          false|25.72|        3.5|                159|       0|(8,[1,5,6,7],[37....|\n",
            "+------+----+------------+-------------+---------------+-----+-----------+-------------------+--------+--------------------+\n",
            "only showing top 20 rows\n",
            "\n"
          ]
        }
      ]
    },
    {
      "cell_type": "code",
      "source": [
        "output.select([\"features\", \"diabetes\"]).show(truncate=False)"
      ],
      "metadata": {
        "id": "X1ZF336mcG3b",
        "colab": {
          "base_uri": "https://localhost:8080/"
        },
        "outputId": "daf047a0-74d8-44d6-af95-ed2f4822ee8c"
      },
      "execution_count": null,
      "outputs": [
        {
          "output_type": "stream",
          "name": "stdout",
          "text": [
            "+--------------------------------------+--------+\n",
            "|features                              |diabetes|\n",
            "+--------------------------------------+--------+\n",
            "|[0.0,80.0,0.0,1.0,0.0,25.19,6.6,140.0]|0       |\n",
            "|(8,[1,5,6,7],[54.0,27.32,6.6,80.0])   |0       |\n",
            "|(8,[1,5,6,7],[28.0,27.32,5.7,158.0])  |0       |\n",
            "|(8,[1,5,6,7],[36.0,23.45,5.0,155.0])  |0       |\n",
            "|[0.0,76.0,1.0,1.0,0.0,20.14,4.8,155.0]|0       |\n",
            "|(8,[1,5,6,7],[20.0,27.32,6.6,85.0])   |0       |\n",
            "|(8,[1,5,6,7],[44.0,19.31,6.5,140.0])  |1       |\n",
            "|(8,[1,5,6,7],[79.0,23.86,5.7,85.0])   |0       |\n",
            "|(8,[1,5,6,7],[42.0,33.64,4.8,145.0])  |0       |\n",
            "|(8,[1,5,6,7],[32.0,27.32,5.0,100.0])  |0       |\n",
            "|(8,[1,5,6,7],[53.0,27.32,6.1,85.0])   |0       |\n",
            "|(8,[1,5,6,7],[54.0,54.7,6.0,100.0])   |0       |\n",
            "|(8,[1,5,6,7],[78.0,36.05,5.0,130.0])  |0       |\n",
            "|(8,[1,5,6,7],[67.0,25.69,5.8,200.0])  |0       |\n",
            "|(8,[1,5,6,7],[76.0,27.32,5.0,160.0])  |0       |\n",
            "|(8,[1,5,6,7],[78.0,27.32,6.6,126.0])  |0       |\n",
            "|(8,[1,5,6,7],[15.0,30.36,6.1,200.0])  |0       |\n",
            "|(8,[1,5,6,7],[42.0,24.48,5.7,158.0])  |0       |\n",
            "|(8,[1,5,6,7],[42.0,27.32,5.7,80.0])   |0       |\n",
            "|(8,[1,5,6,7],[37.0,25.72,3.5,159.0])  |0       |\n",
            "+--------------------------------------+--------+\n",
            "only showing top 20 rows\n",
            "\n"
          ]
        }
      ]
    },
    {
      "cell_type": "code",
      "source": [
        "model_df = output.select([\"features\", \"diabetes\"])"
      ],
      "metadata": {
        "id": "ZhT1_EGIfds4"
      },
      "execution_count": null,
      "outputs": []
    },
    {
      "cell_type": "code",
      "source": [
        "model_df.show()"
      ],
      "metadata": {
        "id": "Df4L3QxNfvI8",
        "colab": {
          "base_uri": "https://localhost:8080/"
        },
        "outputId": "f046317e-0c42-477a-c9d9-2f093fc2fbb3"
      },
      "execution_count": null,
      "outputs": [
        {
          "output_type": "stream",
          "name": "stdout",
          "text": [
            "+--------------------+--------+\n",
            "|            features|diabetes|\n",
            "+--------------------+--------+\n",
            "|[0.0,80.0,0.0,1.0...|       0|\n",
            "|(8,[1,5,6,7],[54....|       0|\n",
            "|(8,[1,5,6,7],[28....|       0|\n",
            "|(8,[1,5,6,7],[36....|       0|\n",
            "|[0.0,76.0,1.0,1.0...|       0|\n",
            "|(8,[1,5,6,7],[20....|       0|\n",
            "|(8,[1,5,6,7],[44....|       1|\n",
            "|(8,[1,5,6,7],[79....|       0|\n",
            "|(8,[1,5,6,7],[42....|       0|\n",
            "|(8,[1,5,6,7],[32....|       0|\n",
            "|(8,[1,5,6,7],[53....|       0|\n",
            "|(8,[1,5,6,7],[54....|       0|\n",
            "|(8,[1,5,6,7],[78....|       0|\n",
            "|(8,[1,5,6,7],[67....|       0|\n",
            "|(8,[1,5,6,7],[76....|       0|\n",
            "|(8,[1,5,6,7],[78....|       0|\n",
            "|(8,[1,5,6,7],[15....|       0|\n",
            "|(8,[1,5,6,7],[42....|       0|\n",
            "|(8,[1,5,6,7],[42....|       0|\n",
            "|(8,[1,5,6,7],[37....|       0|\n",
            "+--------------------+--------+\n",
            "only showing top 20 rows\n",
            "\n"
          ]
        }
      ]
    },
    {
      "cell_type": "code",
      "source": [
        "training_df, test_df = model_df.randomSplit([0.7, 0.3])"
      ],
      "metadata": {
        "id": "dtcZTlh-f5qd"
      },
      "execution_count": null,
      "outputs": []
    },
    {
      "cell_type": "code",
      "source": [
        "print(training_df.count())\n",
        "print(test_df.count())"
      ],
      "metadata": {
        "id": "-I5H2ZjfgJvt",
        "colab": {
          "base_uri": "https://localhost:8080/"
        },
        "outputId": "49920b2f-f5d6-4979-de60-026ede0f0727"
      },
      "execution_count": null,
      "outputs": [
        {
          "output_type": "stream",
          "name": "stdout",
          "text": [
            "35540\n",
            "15349\n"
          ]
        }
      ]
    },
    {
      "cell_type": "code",
      "source": [
        "from pyspark.ml.classification import RandomForestClassifier"
      ],
      "metadata": {
        "id": "pymUmsBVgY9Y"
      },
      "execution_count": null,
      "outputs": []
    },
    {
      "cell_type": "code",
      "source": [
        "rf_classifier = RandomForestClassifier(labelCol=\"diabetes\",\n",
        "                                       numTrees = 500).fit(training_df)"
      ],
      "metadata": {
        "id": "IiSqGyXogliO"
      },
      "execution_count": null,
      "outputs": []
    },
    {
      "cell_type": "code",
      "source": [
        "rf_predictions = rf_classifier.transform(test_df)"
      ],
      "metadata": {
        "id": "uPDZeVpvhY8q"
      },
      "execution_count": null,
      "outputs": []
    },
    {
      "cell_type": "code",
      "source": [
        "rf_predictions.show()"
      ],
      "metadata": {
        "id": "iX_3UxvAhia7",
        "colab": {
          "base_uri": "https://localhost:8080/"
        },
        "outputId": "c3399ef8-5c56-4c77-eb04-e7bf03643976"
      },
      "execution_count": null,
      "outputs": [
        {
          "output_type": "stream",
          "name": "stdout",
          "text": [
            "+--------------------+--------+--------------------+--------------------+----------+\n",
            "|            features|diabetes|       rawPrediction|         probability|prediction|\n",
            "+--------------------+--------+--------------------+--------------------+----------+\n",
            "|(8,[1,5,6,7],[0.0...|       0|[490.115565999900...|[0.98023113199980...|       0.0|\n",
            "|(8,[1,5,6,7],[0.0...|       0|[489.591247574864...|[0.97918249514972...|       0.0|\n",
            "|(8,[1,5,6,7],[0.0...|       0|[491.869296639797...|[0.98373859327959...|       0.0|\n",
            "|(8,[1,5,6,7],[0.0...|       0|[491.213180011897...|[0.98242636002379...|       0.0|\n",
            "|(8,[1,5,6,7],[0.1...|       0|[490.115565999900...|[0.98023113199980...|       0.0|\n",
            "|(8,[1,5,6,7],[0.1...|       0|[490.115565999900...|[0.98023113199980...|       0.0|\n",
            "|(8,[1,5,6,7],[0.1...|       0|[489.592859076552...|[0.97918571815310...|       0.0|\n",
            "|(8,[1,5,6,7],[0.1...|       0|[490.115565999900...|[0.98023113199980...|       0.0|\n",
            "|(8,[1,5,6,7],[0.1...|       0|[489.591247574864...|[0.97918249514972...|       0.0|\n",
            "|(8,[1,5,6,7],[0.2...|       0|[489.591247574864...|[0.97918249514972...|       0.0|\n",
            "|(8,[1,5,6,7],[0.2...|       0|[490.122241951643...|[0.98024448390328...|       0.0|\n",
            "|(8,[1,5,6,7],[0.2...|       0|[491.346589716448...|[0.98269317943289...|       0.0|\n",
            "|(8,[1,5,6,7],[0.2...|       0|[489.592859076552...|[0.97918571815310...|       0.0|\n",
            "|(8,[1,5,6,7],[0.2...|       0|[489.597923526606...|[0.97919584705321...|       0.0|\n",
            "|(8,[1,5,6,7],[0.2...|       0|[489.591247574864...|[0.97918249514972...|       0.0|\n",
            "|(8,[1,5,6,7],[0.2...|       0|[491.346589716448...|[0.98269317943289...|       0.0|\n",
            "|(8,[1,5,6,7],[0.2...|       0|[491.869296639797...|[0.98373859327959...|       0.0|\n",
            "|(8,[1,5,6,7],[0.2...|       0|[489.592859076552...|[0.97918571815310...|       0.0|\n",
            "|(8,[1,5,6,7],[0.2...|       0|[489.592859076552...|[0.97918571815310...|       0.0|\n",
            "|(8,[1,5,6,7],[0.2...|       0|[489.431042056403...|[0.97886208411280...|       0.0|\n",
            "+--------------------+--------+--------------------+--------------------+----------+\n",
            "only showing top 20 rows\n",
            "\n"
          ]
        }
      ]
    },
    {
      "cell_type": "code",
      "source": [
        "from pyspark.ml.evaluation import BinaryClassificationEvaluator"
      ],
      "metadata": {
        "id": "UvQwtTFKhyg3"
      },
      "execution_count": null,
      "outputs": []
    },
    {
      "cell_type": "code",
      "source": [
        "rf_auc = BinaryClassificationEvaluator(labelCol=\"diabetes\").evaluate(rf_predictions)"
      ],
      "metadata": {
        "id": "zvizLv82h_gL"
      },
      "execution_count": null,
      "outputs": []
    },
    {
      "cell_type": "code",
      "source": [
        "rf_auc"
      ],
      "metadata": {
        "id": "KBDylPLGi-lt",
        "colab": {
          "base_uri": "https://localhost:8080/"
        },
        "outputId": "b91dd468-7a98-4ed2-ea59-c77697c7594a"
      },
      "execution_count": null,
      "outputs": [
        {
          "output_type": "execute_result",
          "data": {
            "text/plain": [
              "0.9518381566754585"
            ]
          },
          "metadata": {},
          "execution_count": 32
        }
      ]
    },
    {
      "cell_type": "code",
      "source": [
        "print(\"Area Under ROC:\", rf_auc)"
      ],
      "metadata": {
        "colab": {
          "base_uri": "https://localhost:8080/"
        },
        "id": "k0MrC9vWtyi9",
        "outputId": "642dc533-3c76-46dc-b3e4-9212eeb0d632"
      },
      "execution_count": null,
      "outputs": [
        {
          "output_type": "stream",
          "name": "stdout",
          "text": [
            "Area Under ROC: 0.9528426166693317\n"
          ]
        }
      ]
    }
  ]
}